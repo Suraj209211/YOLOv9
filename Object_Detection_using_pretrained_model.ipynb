{
  "nbformat": 4,
  "nbformat_minor": 0,
  "metadata": {
    "colab": {
      "private_outputs": true,
      "provenance": [],
      "gpuType": "T4",
      "authorship_tag": "ABX9TyNgixDPNelHen8Me92x+twm",
      "include_colab_link": true
    },
    "kernelspec": {
      "name": "python3",
      "display_name": "Python 3"
    },
    "language_info": {
      "name": "python"
    },
    "accelerator": "GPU"
  },
  "cells": [
    {
      "cell_type": "markdown",
      "metadata": {
        "id": "view-in-github",
        "colab_type": "text"
      },
      "source": [
        "<a href=\"https://colab.research.google.com/github/Suraj209211/YOLOv9/blob/main/Object_Detection_using_pretrained_model.ipynb\" target=\"_parent\"><img src=\"https://colab.research.google.com/assets/colab-badge.svg\" alt=\"Open In Colab\"/></a>"
      ]
    },
    {
      "cell_type": "code",
      "execution_count": null,
      "metadata": {
        "id": "aD7crojVY66n"
      },
      "outputs": [],
      "source": [
        "!nvidia-smi"
      ]
    },
    {
      "cell_type": "code",
      "source": [
        "import torch\n",
        "\n",
        "# Check PyTorch GPU availability\n",
        "if torch.cuda.is_available():\n",
        "    print(f\"GPU Name: {torch.cuda.get_device_name(0)}\")\n",
        "    print(f\"GPU Is Available: {torch.cuda.is_available()}\")\n",
        "else:\n",
        "    print(\"GPU is not available.\")\n",
        "\n"
      ],
      "metadata": {
        "id": "nQ4PNXo5br9u"
      },
      "execution_count": null,
      "outputs": []
    },
    {
      "cell_type": "code",
      "source": [
        "from google.colab import drive\n",
        "drive.mount('/content/gdrive')"
      ],
      "metadata": {
        "id": "-lmLuIjEgF23"
      },
      "execution_count": null,
      "outputs": []
    },
    {
      "cell_type": "code",
      "source": [
        "!ln -s /content/gdrive/My\\ Drive/ /mydrive\n"
      ],
      "metadata": {
        "id": "-6930jesgrOx"
      },
      "execution_count": null,
      "outputs": []
    },
    {
      "cell_type": "code",
      "source": [
        "%cd /mydrive/yolov9\n",
        "\n"
      ],
      "metadata": {
        "id": "WHvvc7QHgu8v"
      },
      "execution_count": null,
      "outputs": []
    },
    {
      "cell_type": "code",
      "source": [
        "!git clone https://github.com/WongKinYiu/yolov9.git\n"
      ],
      "metadata": {
        "id": "PmNmu5HliRe5"
      },
      "execution_count": null,
      "outputs": []
    },
    {
      "cell_type": "code",
      "source": [
        "%cd yolov9\n"
      ],
      "metadata": {
        "id": "eCA3wnjyiVk4"
      },
      "execution_count": null,
      "outputs": []
    },
    {
      "cell_type": "code",
      "source": [
        "!pip install -r requirements.txt\n"
      ],
      "metadata": {
        "id": "OR91dZpkibZE"
      },
      "execution_count": null,
      "outputs": []
    },
    {
      "cell_type": "code",
      "source": [
        "\n",
        "!wget -P /mydrive/yolov9 https://github.com/WongKinYiu/yolov9/releases/download/v0.1/yolov9-c.pt\n",
        "\n",
        "!wget -P /mydrive/yolov9 https://github.com/WongKinYiu/yolov9/releases/download/v0.1/yolov9-e.pt\n"
      ],
      "metadata": {
        "id": "96QDVikQidlX"
      },
      "execution_count": null,
      "outputs": []
    },
    {
      "cell_type": "code",
      "source": [
        "!wget -P /mydrive/yolov9 -q https://cdn.pixabay.com/photo/2020/04/18/12/23/woman-5059062_960_720.jpg"
      ],
      "metadata": {
        "id": "Cc_n3PUJiywe"
      },
      "execution_count": null,
      "outputs": []
    },
    {
      "cell_type": "code",
      "source": [
        "! python detect.py --weights /mydrive/yolov9/yolov9-e.pt --source /mydrive/yolov9/woman-5059062_960_720.jpg --device 0\n",
        "\n"
      ],
      "metadata": {
        "id": "7C8n9chyi3tK"
      },
      "execution_count": null,
      "outputs": []
    },
    {
      "cell_type": "code",
      "source": [
        "\n",
        "from IPython.display import Image\n",
        "\n",
        "Image(filename=f\"/content/gdrive/MyDrive/yolov9/yolov9/runs/detect/exp7/woman-5059062_960_720.jpg\", width=1000)\n",
        "\n"
      ],
      "metadata": {
        "id": "vKRbpw8kjA5u"
      },
      "execution_count": null,
      "outputs": []
    }
  ]
}